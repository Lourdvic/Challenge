{
  "nbformat": 4,
  "nbformat_minor": 0,
  "metadata": {
    "colab": {
      "name": "Untitled2.ipynb",
      "provenance": [],
      "authorship_tag": "ABX9TyP1p0FZt0MLprunoOwEKeX4",
      "include_colab_link": true
    },
    "kernelspec": {
      "name": "python3",
      "display_name": "Python 3"
    }
  },
  "cells": [
    {
      "cell_type": "markdown",
      "metadata": {
        "id": "view-in-github",
        "colab_type": "text"
      },
      "source": [
        "<a href=\"https://colab.research.google.com/github/Lourdvic/Challenge/blob/main/HackerRanckWarmupChallenge.ipynb\" target=\"_parent\"><img src=\"https://colab.research.google.com/assets/colab-badge.svg\" alt=\"Open In Colab\"/></a>"
      ]
    },
    {
      "cell_type": "markdown",
      "metadata": {
        "id": "Tm-SI9H4-ljQ"
      },
      "source": [
        "Hacker Ranck Interview challenge"
      ]
    },
    {
      "cell_type": "markdown",
      "metadata": {
        "id": "ffgL3Q94-rzv"
      },
      "source": [
        "Sales by Match"
      ]
    },
    {
      "cell_type": "code",
      "metadata": {
        "id": "9nHcZKHa-ou1"
      },
      "source": [
        "ar = [1, 2, 1, 2, 1, 3, 2]"
      ],
      "execution_count": null,
      "outputs": []
    },
    {
      "cell_type": "code",
      "metadata": {
        "id": "qZSEQoeT-lA_"
      },
      "source": [
        "from collections import Counter\r\n",
        "import math"
      ],
      "execution_count": null,
      "outputs": []
    },
    {
      "cell_type": "code",
      "metadata": {
        "id": "hnGhuVij-yRv"
      },
      "source": [
        "nb_socks = Counter(ar)\r\n",
        "nb_pair_total = 0\r\n",
        "for color, nb_socks_color in nb_socks.items():\r\n",
        "  nb_pair = math.floor(nb_socks_color / 2) \r\n",
        "  nb_pair_total += nb_pair"
      ],
      "execution_count": null,
      "outputs": []
    },
    {
      "cell_type": "code",
      "metadata": {
        "id": "vA2MTxT8_CKn"
      },
      "source": [
        "nb_pair_total"
      ],
      "execution_count": null,
      "outputs": []
    },
    {
      "cell_type": "code",
      "metadata": {
        "id": "AvdYH9vp_DWG"
      },
      "source": [
        "nb_socks"
      ],
      "execution_count": null,
      "outputs": []
    },
    {
      "cell_type": "code",
      "metadata": {
        "id": "iNaDQe4e_ElH"
      },
      "source": [
        "3 % 2"
      ],
      "execution_count": null,
      "outputs": []
    },
    {
      "cell_type": "code",
      "metadata": {
        "id": "TOT_phE3_Frn"
      },
      "source": [
        "1 % 2 "
      ],
      "execution_count": null,
      "outputs": []
    },
    {
      "cell_type": "markdown",
      "metadata": {
        "id": "h190hgxL_OTe"
      },
      "source": [
        "Conting Valleys"
      ]
    },
    {
      "cell_type": "code",
      "metadata": {
        "id": "42lziF1H_P9X"
      },
      "source": [
        "steps = 1\r\n",
        "path = ['DUUDXX']"
      ],
      "execution_count": null,
      "outputs": []
    },
    {
      "cell_type": "code",
      "metadata": {
        "id": "heB-ApXa_igP"
      },
      "source": [
        "def countingValleys(steps, path):\r\n",
        "    # Write your code here\r\n",
        "    if steps <= 2 or steps >= 10**6:\r\n",
        "        return -1\r\n",
        "    #return 0\r\n",
        "    level = 0\r\n",
        "    lvl_status = []\r\n",
        "    nb_valley = 0\r\n",
        "    for idx, step in enumerate(path):\r\n",
        "      if step != 'U' and step != 'D':\r\n",
        "        return -1\r\n",
        "      if step == 'D':\r\n",
        "        level -= 1\r\n",
        "      elif step == 'U':\r\n",
        "        level += 1\r\n",
        "      lvl_status.append(level)\r\n",
        "    #print(lvl_status)\r\n",
        "    for idx, statut in enumerate(lvl_status):\r\n",
        "      #print(\"idx:\", idx, \"lvl_status:\", lvl_status[idx])\r\n",
        "      if lvl_status[-1] != 0:\r\n",
        "        if lvl_status[idx] == 0 and lvl_status[idx + 1] == True:\r\n",
        "          if lvl_status[idx - 1] < 0 and lvl_status[idx + 1] >= 0 or lvl_status[idx + 1] <= 0:\r\n",
        "            nb_valley += 1\r\n",
        "      else:\r\n",
        "        if lvl_status[idx] == 0 and lvl_status[idx - 1] < 0:\r\n",
        "          nb_valley += 1\r\n",
        "    return nb_valley \r\n"
      ],
      "execution_count": null,
      "outputs": []
    },
    {
      "cell_type": "code",
      "metadata": {
        "colab": {
          "base_uri": "https://localhost:8080/"
        },
        "id": "bOKLxVI__wVh",
        "outputId": "57fd6560-1542-4d89-cd55-604863aedacb"
      },
      "source": [
        "\r\n",
        "print(countingValleys(3, 'DUDUUUUDDDDDUU'))"
      ],
      "execution_count": null,
      "outputs": [
        {
          "output_type": "stream",
          "text": [
            "[-1, 0, -1, 0, 1, 2, 3, 2, 1, 0, -1, -2, -1, 0]\n",
            "3\n"
          ],
          "name": "stdout"
        }
      ]
    },
    {
      "cell_type": "code",
      "metadata": {
        "id": "cRwmlQdc_0NM"
      },
      "source": [
        "%"
      ],
      "execution_count": null,
      "outputs": []
    }
  ]
}